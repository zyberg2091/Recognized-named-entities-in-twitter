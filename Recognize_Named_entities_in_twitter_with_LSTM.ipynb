{
  "nbformat": 4,
  "nbformat_minor": 0,
  "metadata": {
    "colab": {
      "name": "Recognize Named entities in twitter with LSTM",
      "provenance": [],
      "collapsed_sections": [],
      "authorship_tag": "ABX9TyP240UYDmb3W5/kQlQuzx99",
      "include_colab_link": true
    },
    "kernelspec": {
      "name": "python3",
      "display_name": "Python 3"
    },
    "accelerator": "GPU"
  },
  "cells": [
    {
      "cell_type": "markdown",
      "metadata": {
        "id": "view-in-github",
        "colab_type": "text"
      },
      "source": [
        "<a href=\"https://colab.research.google.com/github/zyberg2091/Recognized-named-entities-in-twitter/blob/master/Recognize_Named_entities_in_twitter_with_LSTM.ipynb\" target=\"_parent\"><img src=\"https://colab.research.google.com/assets/colab-badge.svg\" alt=\"Open In Colab\"/></a>"
      ]
    },
    {
      "cell_type": "code",
      "metadata": {
        "id": "AC0zQcBVhb_z"
      },
      "source": [
        "import numpy as np"
      ],
      "execution_count": 1,
      "outputs": []
    },
    {
      "cell_type": "code",
      "metadata": {
        "id": "70b8tgGPF6bf",
        "outputId": "3897d0a4-3b97-4274-f151-48f5eb49feac",
        "colab": {
          "base_uri": "https://localhost:8080/",
          "height": 34
        }
      },
      "source": [
        "from google.colab import drive\n",
        "drive.mount('/content/drive')"
      ],
      "execution_count": 2,
      "outputs": [
        {
          "output_type": "stream",
          "text": [
            "Drive already mounted at /content/drive; to attempt to forcibly remount, call drive.mount(\"/content/drive\", force_remount=True).\n"
          ],
          "name": "stdout"
        }
      ]
    },
    {
      "cell_type": "code",
      "metadata": {
        "id": "oKm-T68Uhdr2"
      },
      "source": [
        "import tensorflow as tf\n",
        "import matplotlib.pyplot as plt\n",
        "\n",
        "from tensorflow.keras.layers import Input,Dense,SpatialDropout1D,Embedding,Bidirectional,LSTM,TimeDistributed\n",
        "from tensorflow.keras.models import Model\n",
        "from tensorflow.keras.preprocessing.sequence import pad_sequences\n",
        "from tensorflow.keras.preprocessing.text import Tokenizer\n",
        "from tensorflow.keras.utils import to_categorical"
      ],
      "execution_count": 3,
      "outputs": []
    },
    {
      "cell_type": "code",
      "metadata": {
        "id": "GRFlxjDmiFBT"
      },
      "source": [
        "def read_data(file_path):\n",
        "    tokens = []\n",
        "    tags = []\n",
        "    \n",
        "    tweet_tokens = []\n",
        "    tweet_tags = []\n",
        "    for line in open(file_path, encoding='utf-8'):\n",
        "        line = line.strip()\n",
        "        if not line:\n",
        "            if tweet_tokens:\n",
        "                tokens.append(tweet_tokens)\n",
        "                tags.append(tweet_tags)\n",
        "            tweet_tokens = []\n",
        "            tweet_tags = []\n",
        "        else:\n",
        "            token, tag = line.split()\n",
        "            if token.lower().startswith(\"https://\"):\n",
        "              token='<URL>'\n",
        "            if token.lower().startswith(\"@\"):\n",
        "              token='<USR>'\n",
        "          \n",
        "            \n",
        "            tweet_tokens.append(token)\n",
        "            tweet_tags.append(tag)\n",
        "            \n",
        "    return tokens, tags"
      ],
      "execution_count": 4,
      "outputs": []
    },
    {
      "cell_type": "code",
      "metadata": {
        "id": "ktLeBfGYij_A"
      },
      "source": [
        "train_tokens, train_tags = read_data('data/train.txt')\n",
        "validation_tokens, validation_tags = read_data('data/validation.txt')\n",
        "test_tokens, test_tags = read_data('data/test.txt')"
      ],
      "execution_count": 5,
      "outputs": []
    },
    {
      "cell_type": "code",
      "metadata": {
        "id": "OaMa1YlRFH9f",
        "outputId": "8013fab8-10d2-4ace-8e5f-6ad895065e0c",
        "colab": {
          "base_uri": "https://localhost:8080/",
          "height": 806
        }
      },
      "source": [
        "train_tokens[:2]"
      ],
      "execution_count": 6,
      "outputs": [
        {
          "output_type": "execute_result",
          "data": {
            "text/plain": [
              "[['RT',\n",
              "  '<USR>',\n",
              "  ':',\n",
              "  'Online',\n",
              "  'ticket',\n",
              "  'sales',\n",
              "  'for',\n",
              "  'Ghostland',\n",
              "  'Observatory',\n",
              "  'extended',\n",
              "  'until',\n",
              "  '6',\n",
              "  'PM',\n",
              "  'EST',\n",
              "  'due',\n",
              "  'to',\n",
              "  'high',\n",
              "  'demand',\n",
              "  '.',\n",
              "  'Get',\n",
              "  'them',\n",
              "  'before',\n",
              "  'they',\n",
              "  'sell',\n",
              "  'out',\n",
              "  '...'],\n",
              " ['Apple',\n",
              "  'MacBook',\n",
              "  'Pro',\n",
              "  'A1278',\n",
              "  '13.3',\n",
              "  '\"',\n",
              "  'Laptop',\n",
              "  '-',\n",
              "  'MD101LL/A',\n",
              "  '(',\n",
              "  'June',\n",
              "  ',',\n",
              "  '2012',\n",
              "  ')',\n",
              "  '-',\n",
              "  'Full',\n",
              "  'read',\n",
              "  'by',\n",
              "  'eBay',\n",
              "  'http://t.co/2zgQ99nmuf',\n",
              "  'http://t.co/eQmogqqABK']]"
            ]
          },
          "metadata": {
            "tags": []
          },
          "execution_count": 6
        }
      ]
    },
    {
      "cell_type": "code",
      "metadata": {
        "id": "ooHEliOJikhQ",
        "outputId": "0d948b67-2989-4883-c186-cdf886764229",
        "colab": {
          "base_uri": "https://localhost:8080/",
          "height": 1000
        }
      },
      "source": [
        "for i in range(3):\n",
        "    for token, tag in zip(train_tokens[i], train_tags[i]):\n",
        "        print('%s\\t%s' % (token, tag))\n",
        "    print()"
      ],
      "execution_count": 7,
      "outputs": [
        {
          "output_type": "stream",
          "text": [
            "RT\tO\n",
            "<USR>\tO\n",
            ":\tO\n",
            "Online\tO\n",
            "ticket\tO\n",
            "sales\tO\n",
            "for\tO\n",
            "Ghostland\tB-musicartist\n",
            "Observatory\tI-musicartist\n",
            "extended\tO\n",
            "until\tO\n",
            "6\tO\n",
            "PM\tO\n",
            "EST\tO\n",
            "due\tO\n",
            "to\tO\n",
            "high\tO\n",
            "demand\tO\n",
            ".\tO\n",
            "Get\tO\n",
            "them\tO\n",
            "before\tO\n",
            "they\tO\n",
            "sell\tO\n",
            "out\tO\n",
            "...\tO\n",
            "\n",
            "Apple\tB-product\n",
            "MacBook\tI-product\n",
            "Pro\tI-product\n",
            "A1278\tI-product\n",
            "13.3\tI-product\n",
            "\"\tI-product\n",
            "Laptop\tI-product\n",
            "-\tI-product\n",
            "MD101LL/A\tI-product\n",
            "(\tO\n",
            "June\tO\n",
            ",\tO\n",
            "2012\tO\n",
            ")\tO\n",
            "-\tO\n",
            "Full\tO\n",
            "read\tO\n",
            "by\tO\n",
            "eBay\tB-company\n",
            "http://t.co/2zgQ99nmuf\tO\n",
            "http://t.co/eQmogqqABK\tO\n",
            "\n",
            "Happy\tO\n",
            "Birthday\tO\n",
            "<USR>\tO\n",
            "!\tO\n",
            "May\tO\n",
            "Allah\tB-person\n",
            "s.w.t\tO\n",
            "bless\tO\n",
            "you\tO\n",
            "with\tO\n",
            "goodness\tO\n",
            "and\tO\n",
            "happiness\tO\n",
            ".\tO\n",
            "\n"
          ],
          "name": "stdout"
        }
      ]
    },
    {
      "cell_type": "code",
      "metadata": {
        "id": "B6ptSVbzi1B_"
      },
      "source": [
        "from collections import defaultdict"
      ],
      "execution_count": 8,
      "outputs": []
    },
    {
      "cell_type": "code",
      "metadata": {
        "id": "HYlnOHxbirea"
      },
      "source": [
        "def build_dict(tokens_or_tags,i):\n",
        "    \"\"\"\n",
        "        tokens_or_tags: a list of lists of tokens or tags\n",
        "        special_tokens: some special tokens\n",
        "    \"\"\"\n",
        "    # Create a dictionary with default value 0\n",
        "    tok2idx = defaultdict(lambda: 0)\n",
        "    idx2tok = []\n",
        "    \n",
        "    # Create mappings from tokens (or tags) to indices and vice versa.\n",
        "    # At first, add special tokens (or tags) to the dictionaries.\n",
        "    # The first special token must have index 0.\n",
        "    \n",
        "    # Mapping tok2idx should contain each token or tag only once. \n",
        "    # To do so, you should:\n",
        "    # 1. extract unique tokens/tags from the tokens_or_tags variable, which is not\n",
        "    #    occur in special_tokens (because they could have non-empty intersection)\n",
        "    # 2. index them (for example, you can add them into the list idx2tok\n",
        "    # 3. for each token/tag save the index into tok2idx).\n",
        "\n",
        "    vocab=set([t for ts in tokens_or_tags for t in ts])\n",
        "    \n",
        "    if i==0:\n",
        "        tok2idx['<PAD>']=0\n",
        "        tok2idx['<UNK>']=1\n",
        "        idx2tok.append('<UNK>')\n",
        "        idx2tok.append('<PAD>')\n",
        "    if i==1:\n",
        "        tok2idx['0']=0\n",
        "        idx2tok.append('0')\n",
        "\n",
        "\n",
        "    for key,value in enumerate(vocab):\n",
        "      if i==0:\n",
        "        tok2idx[value]=key+2\n",
        "        idx2tok.append(value)\n",
        "      if i==1:\n",
        "        tok2idx[value]=key+1\n",
        "        idx2tok.append(value)\n",
        "\n",
        "  \n",
        "    return tok2idx, idx2tok"
      ],
      "execution_count": 9,
      "outputs": []
    },
    {
      "cell_type": "code",
      "metadata": {
        "id": "aeuJeG11i1mt"
      },
      "source": [
        "\n",
        "# Create dictionaries \n",
        "token2idx, idx2token = build_dict(train_tokens,0)\n",
        "tag2idx, idx2tag = build_dict(train_tags,1)"
      ],
      "execution_count": 10,
      "outputs": []
    },
    {
      "cell_type": "code",
      "metadata": {
        "id": "O3R2EEcYi40Q"
      },
      "source": [
        "def words2idxs(tokens_list):\n",
        "    return [token2idx[word] if word in token2idx.keys() else token2idx['<UNK>'] for word in tokens_list]\n",
        "\n",
        "def tags2idxs(tags_list):\n",
        "    return [tag2idx[tag] if tag in tag2idx.keys() else tag2idx['0'] for tag in tags_list]\n",
        "\n",
        "def idxs2words(idxs):\n",
        "    return [idx2token[idx] for idx in idxs]\n",
        "\n",
        "def idxs2tags(idxs):\n",
        "    return [idx2tag[idx] for idx in idxs]"
      ],
      "execution_count": 11,
      "outputs": []
    },
    {
      "cell_type": "code",
      "metadata": {
        "id": "xFwo4Zv6gm_E"
      },
      "source": [
        "count=[]\n",
        "for i in range(len(train_tokens)):\n",
        "  count.append(len(train_tokens[i]))\n",
        "length=max(count)"
      ],
      "execution_count": 12,
      "outputs": []
    },
    {
      "cell_type": "code",
      "metadata": {
        "id": "IGMMDSrMfsV-"
      },
      "source": [
        "#Data prep\n",
        "\n",
        "x_train=[words2idxs(token) for token in train_tokens]\n",
        "x_train_pad=pad_sequences(x_train,maxlen=length,value=token2idx['<PAD>'],padding=\"post\")\n",
        "\n",
        "\n",
        "y_train=[tags2idxs(tags) for tags in train_tags]\n",
        "y_train_pad=pad_sequences(y_train,maxlen=length,value=tag2idx['0'],padding=\"post\")\n",
        "\n",
        "y_train_data=[to_categorical(y,num_classes=len(idx2tag)+1) for y in y_train_pad]"
      ],
      "execution_count": 13,
      "outputs": []
    },
    {
      "cell_type": "code",
      "metadata": {
        "id": "z3gDiTnN33F3",
        "outputId": "d8518374-0448-485b-d467-c6d7bd44ed59",
        "colab": {
          "base_uri": "https://localhost:8080/",
          "height": 50
        }
      },
      "source": [
        "s=[[1,2,3,4],[23,5,6,7]]\n",
        "pad_sequences(s,maxlen=10,value=0)\n"
      ],
      "execution_count": 14,
      "outputs": [
        {
          "output_type": "execute_result",
          "data": {
            "text/plain": [
              "array([[ 0,  0,  0,  0,  0,  0,  1,  2,  3,  4],\n",
              "       [ 0,  0,  0,  0,  0,  0, 23,  5,  6,  7]], dtype=int32)"
            ]
          },
          "metadata": {
            "tags": []
          },
          "execution_count": 14
        }
      ]
    },
    {
      "cell_type": "code",
      "metadata": {
        "id": "Gb9qmiN9PFoY"
      },
      "source": [
        "x_val=[words2idxs(token) for token in validation_tokens]\n",
        "x_val_pad=pad_sequences(x_val,maxlen=length,value=token2idx['<PAD>'],padding=\"post\")\n",
        "\n",
        "y_val=[tags2idxs(tags) for tags in validation_tags]\n",
        "y_val_pad=pad_sequences(y_val,maxlen=length,value=tag2idx['0'],padding=\"post\")\n",
        "\n",
        "y_val_data=[to_categorical(y,num_classes=len(idx2tag)+1) for y in y_val_pad]"
      ],
      "execution_count": 15,
      "outputs": []
    },
    {
      "cell_type": "code",
      "metadata": {
        "id": "VPlruK29H7yO"
      },
      "source": [
        "y_train_data=np.array(y_train_data)"
      ],
      "execution_count": 16,
      "outputs": []
    },
    {
      "cell_type": "code",
      "metadata": {
        "id": "vD-sUHPHk8Wa",
        "outputId": "1cabf25c-56d6-49fb-8cc8-1622e3f6644a",
        "colab": {
          "base_uri": "https://localhost:8080/",
          "height": 34
        }
      },
      "source": [
        "x_train_pad.shape,y_train_data.shape"
      ],
      "execution_count": 17,
      "outputs": [
        {
          "output_type": "execute_result",
          "data": {
            "text/plain": [
              "((5795, 41), (5795, 41, 23))"
            ]
          },
          "metadata": {
            "tags": []
          },
          "execution_count": 17
        }
      ]
    },
    {
      "cell_type": "code",
      "metadata": {
        "id": "uByaMkY-jmLC",
        "outputId": "f6ddf32c-277a-46ad-c96d-8d8c69b25f6d",
        "colab": {
          "base_uri": "https://localhost:8080/",
          "height": 390
        }
      },
      "source": [
        "#model architecture\n",
        "\n",
        "i=Input(shape=(41,))\n",
        "x=Embedding(len(idx2token)+1,64)(i)\n",
        "x=SpatialDropout1D(0.1)(x)\n",
        "x=Bidirectional(LSTM(64,return_sequences=True,recurrent_dropout=0.1))(x)\n",
        "x=TimeDistributed(Dense(len(idx2tag)+1,activation='softmax'))(x)\n",
        "\n",
        "\n",
        "model=Model(i,x)\n",
        "model.compile(optimizer=\"adam\", loss=\"categorical_crossentropy\", metrics=[\"accuracy\"])\n",
        "\n",
        "model.summary()\n"
      ],
      "execution_count": 18,
      "outputs": [
        {
          "output_type": "stream",
          "text": [
            "WARNING:tensorflow:Layer lstm will not use cuDNN kernel since it doesn't meet the cuDNN kernel criteria. It will use generic GPU kernel as fallback when running on GPU\n",
            "WARNING:tensorflow:Layer lstm will not use cuDNN kernel since it doesn't meet the cuDNN kernel criteria. It will use generic GPU kernel as fallback when running on GPU\n",
            "WARNING:tensorflow:Layer lstm will not use cuDNN kernel since it doesn't meet the cuDNN kernel criteria. It will use generic GPU kernel as fallback when running on GPU\n",
            "Model: \"functional_1\"\n",
            "_________________________________________________________________\n",
            "Layer (type)                 Output Shape              Param #   \n",
            "=================================================================\n",
            "input_1 (InputLayer)         [(None, 41)]              0         \n",
            "_________________________________________________________________\n",
            "embedding (Embedding)        (None, 41, 64)            1344832   \n",
            "_________________________________________________________________\n",
            "spatial_dropout1d (SpatialDr (None, 41, 64)            0         \n",
            "_________________________________________________________________\n",
            "bidirectional (Bidirectional (None, 41, 128)           66048     \n",
            "_________________________________________________________________\n",
            "time_distributed (TimeDistri (None, 41, 23)            2967      \n",
            "=================================================================\n",
            "Total params: 1,413,847\n",
            "Trainable params: 1,413,847\n",
            "Non-trainable params: 0\n",
            "_________________________________________________________________\n"
          ],
          "name": "stdout"
        }
      ]
    },
    {
      "cell_type": "code",
      "metadata": {
        "id": "vNAPXvMpnKC8",
        "outputId": "bcbeb55c-eb4e-48d3-cc8e-33ac5c52f897",
        "colab": {
          "base_uri": "https://localhost:8080/",
          "height": 386
        }
      },
      "source": [
        "idx2tokens={value:key for key,value in token2idx.items()}\n",
        "idx2tags={value:key for key,value in tag2idx.items()}\n",
        "idx2tags"
      ],
      "execution_count": 19,
      "outputs": [
        {
          "output_type": "execute_result",
          "data": {
            "text/plain": [
              "{0: '0',\n",
              " 1: 'B-musicartist',\n",
              " 2: 'I-sportsteam',\n",
              " 3: 'I-tvshow',\n",
              " 4: 'I-company',\n",
              " 5: 'B-product',\n",
              " 6: 'B-company',\n",
              " 7: 'I-facility',\n",
              " 8: 'O',\n",
              " 9: 'B-tvshow',\n",
              " 10: 'I-geo-loc',\n",
              " 11: 'I-musicartist',\n",
              " 12: 'I-product',\n",
              " 13: 'I-person',\n",
              " 14: 'I-other',\n",
              " 15: 'I-movie',\n",
              " 16: 'B-person',\n",
              " 17: 'B-movie',\n",
              " 18: 'B-geo-loc',\n",
              " 19: 'B-sportsteam',\n",
              " 20: 'B-facility',\n",
              " 21: 'B-other'}"
            ]
          },
          "metadata": {
            "tags": []
          },
          "execution_count": 19
        }
      ]
    },
    {
      "cell_type": "code",
      "metadata": {
        "id": "vv8B3TcVtx50",
        "outputId": "515de8e9-4a0f-452b-fb48-21a672ae41d9",
        "colab": {
          "base_uri": "https://localhost:8080/",
          "height": 353
        }
      },
      "source": [
        "r=model.fit(x_train_pad,y_train_data,validation_data=(x_val_pad,np.array(y_val_data)),epochs=10,verbose=1)"
      ],
      "execution_count": 20,
      "outputs": [
        {
          "output_type": "stream",
          "text": [
            "Epoch 1/10\n",
            "182/182 [==============================] - 48s 262ms/step - loss: 0.5302 - accuracy: 0.8867 - val_loss: 0.2060 - val_accuracy: 0.9695\n",
            "Epoch 2/10\n",
            "182/182 [==============================] - 49s 267ms/step - loss: 0.2015 - accuracy: 0.9677 - val_loss: 0.1757 - val_accuracy: 0.9699\n",
            "Epoch 3/10\n",
            "182/182 [==============================] - 48s 265ms/step - loss: 0.1623 - accuracy: 0.9679 - val_loss: 0.1459 - val_accuracy: 0.9699\n",
            "Epoch 4/10\n",
            "182/182 [==============================] - 48s 262ms/step - loss: 0.1235 - accuracy: 0.9691 - val_loss: 0.1342 - val_accuracy: 0.9718\n",
            "Epoch 5/10\n",
            "182/182 [==============================] - 47s 261ms/step - loss: 0.1014 - accuracy: 0.9724 - val_loss: 0.1321 - val_accuracy: 0.9724\n",
            "Epoch 6/10\n",
            "182/182 [==============================] - 47s 259ms/step - loss: 0.0882 - accuracy: 0.9760 - val_loss: 0.1350 - val_accuracy: 0.9729\n",
            "Epoch 7/10\n",
            "182/182 [==============================] - 49s 267ms/step - loss: 0.0763 - accuracy: 0.9792 - val_loss: 0.1377 - val_accuracy: 0.9736\n",
            "Epoch 8/10\n",
            "182/182 [==============================] - 49s 267ms/step - loss: 0.0630 - accuracy: 0.9836 - val_loss: 0.1334 - val_accuracy: 0.9748\n",
            "Epoch 9/10\n",
            "182/182 [==============================] - 48s 265ms/step - loss: 0.0503 - accuracy: 0.9871 - val_loss: 0.1306 - val_accuracy: 0.9734\n",
            "Epoch 10/10\n",
            "182/182 [==============================] - 48s 264ms/step - loss: 0.0403 - accuracy: 0.9895 - val_loss: 0.1369 - val_accuracy: 0.9751\n"
          ],
          "name": "stdout"
        }
      ]
    },
    {
      "cell_type": "code",
      "metadata": {
        "id": "4B4IUX21RoB-",
        "outputId": "1687b74a-b56f-46a5-de97-419da15d00b8",
        "colab": {
          "base_uri": "https://localhost:8080/",
          "height": 134
        }
      },
      "source": [
        "x_val_pad"
      ],
      "execution_count": 21,
      "outputs": [
        {
          "output_type": "execute_result",
          "data": {
            "text/plain": [
              "array([[    1,     1, 17874, ...,     0,     0,     0],\n",
              "       [ 6890, 14394, 19859, ...,     0,     0,     0],\n",
              "       [12452, 20347, 14283, ...,     0,     0,     0],\n",
              "       ...,\n",
              "       [12042, 17495, 17882, ...,     0,     0,     0],\n",
              "       [    1,     1, 16449, ...,     0,     0,     0],\n",
              "       [14394, 13931,  4659, ...,     0,     0,     0]], dtype=int32)"
            ]
          },
          "metadata": {
            "tags": []
          },
          "execution_count": 21
        }
      ]
    },
    {
      "cell_type": "code",
      "metadata": {
        "id": "x8yd9meSMi5o",
        "outputId": "e58e1926-db72-45f9-c341-9de8b22d124e",
        "colab": {
          "base_uri": "https://localhost:8080/",
          "height": 282
        }
      },
      "source": [
        "plt.plot(r.history['val_loss'],label='loss')\n",
        "plt.plot(r.history['val_accuracy'],label='accuracy')\n",
        "plt.legend()"
      ],
      "execution_count": 22,
      "outputs": [
        {
          "output_type": "execute_result",
          "data": {
            "text/plain": [
              "<matplotlib.legend.Legend at 0x7fd1965200b8>"
            ]
          },
          "metadata": {
            "tags": []
          },
          "execution_count": 22
        },
        {
          "output_type": "display_data",
          "data": {
            "image/png": "[encoded data removed]",
            "text/plain": [
              "<Figure size 432x288 with 1 Axes>"
            ]
          },
          "metadata": {
            "tags": [],
            "needs_background": "light"
          }
        }
      ]
    },
    {
      "cell_type": "code",
      "metadata": {
        "id": "d_4uQ88ow1LH"
      },
      "source": [
        "#predictions\n",
        "predictions=model.predict(x_val_pad)"
      ],
      "execution_count": 25,
      "outputs": []
    },
    {
      "cell_type": "code",
      "metadata": {
        "id": "ugP65KMVVg_e"
      },
      "source": [
        "y_pred=np.argmax(predictions,axis=-1)"
      ],
      "execution_count": 26,
      "outputs": []
    },
    {
      "cell_type": "code",
      "metadata": {
        "id": "GKMtBD4ZVj8Q",
        "outputId": "3e165ca3-0481-4c34-87cd-c16234d18c6f",
        "colab": {
          "base_uri": "https://localhost:8080/",
          "height": 34
        }
      },
      "source": [
        "y_true=np.array(y_val_data).argmax(axis=-1)\n",
        "y_true.shape"
      ],
      "execution_count": 27,
      "outputs": [
        {
          "output_type": "execute_result",
          "data": {
            "text/plain": [
              "(724, 41)"
            ]
          },
          "metadata": {
            "tags": []
          },
          "execution_count": 27
        }
      ]
    },
    {
      "cell_type": "code",
      "metadata": {
        "id": "vUGgHVRQnVcV",
        "outputId": "756f8ed7-d511-4a40-c1f2-c5b42721d9b0",
        "colab": {
          "base_uri": "https://localhost:8080/",
          "height": 34
        }
      },
      "source": [
        "x_val_pad[1].shape,y_pred.shape[1],y_true.shape[1]"
      ],
      "execution_count": 28,
      "outputs": [
        {
          "output_type": "execute_result",
          "data": {
            "text/plain": [
              "((41,), 41, 41)"
            ]
          },
          "metadata": {
            "tags": []
          },
          "execution_count": 28
        }
      ]
    },
    {
      "cell_type": "code",
      "metadata": {
        "id": "e5-p3BgOG2L9",
        "outputId": "f35dbff6-0725-4b6b-de4f-149a6f0488ed",
        "colab": {
          "base_uri": "https://localhost:8080/",
          "height": 706
        }
      },
      "source": [
        "for i,j,k in zip(x_val_pad[70],y_true[70],y_pred[70]):\n",
        "  print(\"{}---------------------{}------{}\".format(idx2tokens[i],idx2tags[j],idx2tags[k]))"
      ],
      "execution_count": 29,
      "outputs": [
        {
          "output_type": "stream",
          "text": [
            "1---------------------O------O\n",
            "MO---------------------O------O\n",
            "DAY---------------------O------O\n",
            "TO---------------------O------O\n",
            "GO---------------------O------O\n",
            "<UNK>---------------------O------O\n",
            "&gt;---------------------O------O\n",
            "<UNK>---------------------O------O\n",
            "<PAD>---------------------0------0\n",
            "<PAD>---------------------0------0\n",
            "<PAD>---------------------0------0\n",
            "<PAD>---------------------0------0\n",
            "<PAD>---------------------0------0\n",
            "<PAD>---------------------0------0\n",
            "<PAD>---------------------0------0\n",
            "<PAD>---------------------0------0\n",
            "<PAD>---------------------0------0\n",
            "<PAD>---------------------0------0\n",
            "<PAD>---------------------0------0\n",
            "<PAD>---------------------0------0\n",
            "<PAD>---------------------0------0\n",
            "<PAD>---------------------0------0\n",
            "<PAD>---------------------0------0\n",
            "<PAD>---------------------0------0\n",
            "<PAD>---------------------0------0\n",
            "<PAD>---------------------0------0\n",
            "<PAD>---------------------0------0\n",
            "<PAD>---------------------0------0\n",
            "<PAD>---------------------0------0\n",
            "<PAD>---------------------0------0\n",
            "<PAD>---------------------0------0\n",
            "<PAD>---------------------0------0\n",
            "<PAD>---------------------0------0\n",
            "<PAD>---------------------0------0\n",
            "<PAD>---------------------0------0\n",
            "<PAD>---------------------0------0\n",
            "<PAD>---------------------0------0\n",
            "<PAD>---------------------0------0\n",
            "<PAD>---------------------0------0\n",
            "<PAD>---------------------0------0\n",
            "<PAD>---------------------0------0\n"
          ],
          "name": "stdout"
        }
      ]
    },
    {
      "cell_type": "code",
      "metadata": {
        "id": "reIVP0CuHuwA"
      },
      "source": [
        ""
      ],
      "execution_count": null,
      "outputs": []
    }
  ]
}